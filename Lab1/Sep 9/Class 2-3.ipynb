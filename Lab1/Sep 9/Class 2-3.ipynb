{
 "cells": [
  {
   "cell_type": "markdown",
   "metadata": {},
   "source": [
    "# CS470 Introduction to Artificial Intelligence\n",
    "## Deep Learning Practice \n",
    "#### TA. Minho Sim\n",
    "\n",
    "\n",
    "---"
   ]
  },
  {
   "cell_type": "markdown",
   "metadata": {},
   "source": [
    "## 2-3. Overfitting and how to fight it\n",
    "\n",
    "#### Topics for this chapter\n",
    " * Overfitting\n",
    " * Early stop\n",
    " * Adjusting parameter size \n",
    " * Regularization\n",
    " * Dropout\n",
    " ---"
   ]
  },
  {
   "cell_type": "markdown",
   "metadata": {},
   "source": [
    "In the previous example, we saw that the accuracy of our model on the validation data peaked after training for a few number of epochs, and then started decreasing or being fixed.\n",
    "\n",
    "In other words, our model was **overfitted to the training data**. <br/><br/>\n",
    "\n",
    "\n",
    "#### Overfitting\n",
    "  _Achieves very low training error, but very high test error (not generalized to unseen examples)_\n",
    "\n",
    "<br/>\n",
    "\n",
    "Learning how to deal with overfitting is very important. Although it's often possible to achieve high accuracy on the training set, what we really want is to develop **models that generalize well to a testing set** (or data they haven't seen before).\n",
    "\n",
    "Training the model is similar to preparing for the exam. When we prepare the exam, we often refer to past problems. However, the purpose of studying past problems is not just to solve them well. It is to solve upcoming problems well by studying patterns in past problems. Therefore memorizing past problems' answers to solve them will not help for the upcoming exams at all. The same goes for training the model. Just memorizing training data will not improve the accuracy for the unseen data. \n",
    "\n",
    "If we train the model too long, the model will start to overfit and learn patterns from the training data and eventually we get the model that doesn't generalize to the unseen data. We need to keep balance well between training data and test data. Understanding how can we choose an appropriate number of training epochs can be an useful skill. We call it **early stopping** (stop training before overfitting).\n",
    "\n",
    "<img src=\"https://github.com/keai-kaist/CS470-2021-2/blob/main/Lab1/Sep%209/images/earlystop.png?raw=true\"  width=\"800\">\n",
    "\n",
    "               Slide credit: © MIT 6.S191: Introduction to Deep Learning\n",
    "\n",
    "<br/><br/>\n",
    "\n",
    "There are many solutions to prevent overfitting and the best solution is to increase the training data. A model trained on many data will naturally generalize well (high accuracy for unseen data). If it is impossible to collect a large amount of training dataset, the next possible solution is to use techniques like **regularization**. Regularization imposes constraints on the quantity and type of information a model can store. If a network can only afford to memorize a small number of patterns, not the whole train data, the optimization process will force it to focus on the most prominent patterns, which will lead to a better chance of generalizing well.\n",
    "\n",
    "In this part, we'll explore two common regularization techniques, `weight regularization` and `dropout`, and use them to improve our model.\n",
    "\n",
    "First, we'll set up the environment as before."
   ]
  },
  {
   "cell_type": "code",
   "execution_count": 1,
   "metadata": {
    "ExecuteTime": {
     "end_time": "2021-09-19T11:37:23.497545Z",
     "start_time": "2021-09-19T11:37:21.375796Z"
    }
   },
   "outputs": [
    {
     "name": "stdout",
     "output_type": "stream",
     "text": [
      "Tensorflow:  2.6.0\n"
     ]
    }
   ],
   "source": [
    "from __future__ import absolute_import, division, print_function, unicode_literals\n",
    "\n",
    "try:\n",
    "  # %tensorflow_version only exists in Colab.\n",
    "  %tensorflow_version 2.x\n",
    "except Exception:\n",
    "    pass\n",
    "import tensorflow as tf\n",
    "print('Tensorflow: ', tf.__version__)\n",
    "\n",
    "import numpy as np\n",
    "import matplotlib.pyplot as plt"
   ]
  },
  {
   "cell_type": "markdown",
   "metadata": {},
   "source": [
    "#### Load the IMDB dataset"
   ]
  },
  {
   "cell_type": "code",
   "execution_count": 2,
   "metadata": {
    "ExecuteTime": {
     "end_time": "2021-09-19T11:37:28.386144Z",
     "start_time": "2021-09-19T11:37:24.006897Z"
    }
   },
   "outputs": [],
   "source": [
    "NUM_WORDS = 10000\n",
    "\n",
    "(train_data, train_labels), (test_data, test_labels) = tf.keras.datasets.imdb.load_data(num_words=NUM_WORDS)\n",
    "\n",
    "def multi_hot_sequences(sequences, dimension):\n",
    "    # Create an all-zero matrix of shape (len(sequences), dimension)\n",
    "    results = np.zeros((len(sequences), dimension))\n",
    "    for i, word_indices in enumerate(sequences):\n",
    "        results[i, word_indices] = 1.0  # set specific indices of results[i] to 1s\n",
    "    return results\n",
    "\n",
    "train_data = multi_hot_sequences(train_data, dimension=NUM_WORDS)\n",
    "test_data = multi_hot_sequences(test_data, dimension=NUM_WORDS)"
   ]
  },
  {
   "cell_type": "code",
   "execution_count": 3,
   "metadata": {
    "ExecuteTime": {
     "end_time": "2021-09-19T11:37:28.402148Z",
     "start_time": "2021-09-19T11:37:28.387146Z"
    }
   },
   "outputs": [
    {
     "data": {
      "text/plain": [
       "array([0., 1., 1., ..., 0., 0., 0.])"
      ]
     },
     "execution_count": 3,
     "metadata": {},
     "output_type": "execute_result"
    }
   ],
   "source": [
    "train_data[0]"
   ]
  },
  {
   "cell_type": "markdown",
   "metadata": {},
   "source": [
    "#### Create a validation set"
   ]
  },
  {
   "cell_type": "code",
   "execution_count": 4,
   "metadata": {
    "ExecuteTime": {
     "end_time": "2021-09-19T11:37:56.469961Z",
     "start_time": "2021-09-19T11:37:56.453304Z"
    }
   },
   "outputs": [],
   "source": [
    "x_val = train_data[:10000]\n",
    "partial_x_train = train_data[10000:]\n",
    "\n",
    "y_val = train_labels[:10000]\n",
    "partial_y_train = train_labels[10000:]"
   ]
  },
  {
   "cell_type": "markdown",
   "metadata": {},
   "source": [
    "#### Demonstrate overfitting by various model size\n",
    "\n",
    "A simple way to prevent overfitting is to reduce the size of the model, i.e. the number of learnable parameters in the model. In deep learning, the number of learnable parameters in a model is often referred to as the model's **_capacity_**. Intuitively, a model with more parameters will have more memorization capacity and therefore will be able to easily learn a perfect dictionary-like mapping between training samples and their labels. **Note that a mapping without any generalization power is useless when making predictions on previously unseen data**.\n",
    "\n",
    "On the other hand, if the network has a low capacity and limited memorization resources, it will not be able to learn the mapping as easily. Instead, in order to minimize its loss, **it will have to learn compressed representations that have more predictive power.** At the same time, if you make your model too small, **it will have difficulty fitting to the training data.** We need a balance between \"too much capacity\" and \"not enough capacity\".\n",
    "\n",
    "To find an appropriate model size empirically, it's good to start with relatively few layers and parameters and then start increasing the number of layers until you see performance decline by checking the validation loss or accuracy. Let's try this approach on our movie review classification network.\n",
    "\n",
    "First, we'll create a simple model using only Dense layers as a baseline. And then we will create smaller and larger versions, and compare them."
   ]
  },
  {
   "cell_type": "markdown",
   "metadata": {},
   "source": [
    "#### Create a baseline model"
   ]
  },
  {
   "cell_type": "code",
   "execution_count": 5,
   "metadata": {
    "ExecuteTime": {
     "end_time": "2021-09-19T11:38:12.303457Z",
     "start_time": "2021-09-19T11:38:10.077739Z"
    }
   },
   "outputs": [
    {
     "name": "stdout",
     "output_type": "stream",
     "text": [
      "Model: \"sequential\"\n",
      "_________________________________________________________________\n",
      "Layer (type)                 Output Shape              Param #   \n",
      "=================================================================\n",
      "dense (Dense)                (None, 16)                160016    \n",
      "_________________________________________________________________\n",
      "dense_1 (Dense)              (None, 16)                272       \n",
      "_________________________________________________________________\n",
      "dense_2 (Dense)              (None, 1)                 17        \n",
      "=================================================================\n",
      "Total params: 160,305\n",
      "Trainable params: 160,305\n",
      "Non-trainable params: 0\n",
      "_________________________________________________________________\n"
     ]
    }
   ],
   "source": [
    "baseline_model = tf.keras.Sequential([\n",
    "    tf.keras.layers.Dense(16, activation='relu', input_shape=(NUM_WORDS,)),\n",
    "    tf.keras.layers.Dense(16, activation='relu'),\n",
    "    tf.keras.layers.Dense(1, activation='sigmoid')\n",
    "])\n",
    "\n",
    "baseline_model.compile(optimizer='adam', \n",
    "                       loss='binary_crossentropy',\n",
    "                       metrics=['accuracy'])\n",
    "\n",
    "baseline_model.summary()"
   ]
  },
  {
   "cell_type": "code",
   "execution_count": 6,
   "metadata": {
    "ExecuteTime": {
     "end_time": "2021-09-19T11:38:24.825279Z",
     "start_time": "2021-09-19T11:38:14.844528Z"
    }
   },
   "outputs": [
    {
     "name": "stdout",
     "output_type": "stream",
     "text": [
      "Epoch 1/20\n",
      "30/30 - 2s - loss: 0.5807 - accuracy: 0.7410 - val_loss: 0.4394 - val_accuracy: 0.8488\n",
      "Epoch 2/20\n",
      "30/30 - 0s - loss: 0.3296 - accuracy: 0.8935 - val_loss: 0.3111 - val_accuracy: 0.8819\n",
      "Epoch 3/20\n",
      "30/30 - 0s - loss: 0.2218 - accuracy: 0.9273 - val_loss: 0.2813 - val_accuracy: 0.8898\n",
      "Epoch 4/20\n",
      "30/30 - 0s - loss: 0.1679 - accuracy: 0.9482 - val_loss: 0.2782 - val_accuracy: 0.8881\n",
      "Epoch 5/20\n",
      "30/30 - 0s - loss: 0.1312 - accuracy: 0.9626 - val_loss: 0.2859 - val_accuracy: 0.8844\n",
      "Epoch 6/20\n",
      "30/30 - 0s - loss: 0.1045 - accuracy: 0.9720 - val_loss: 0.3009 - val_accuracy: 0.8835\n",
      "Epoch 7/20\n",
      "30/30 - 0s - loss: 0.0841 - accuracy: 0.9795 - val_loss: 0.3204 - val_accuracy: 0.8806\n",
      "Epoch 8/20\n",
      "30/30 - 0s - loss: 0.0662 - accuracy: 0.9869 - val_loss: 0.3421 - val_accuracy: 0.8793\n",
      "Epoch 9/20\n",
      "30/30 - 0s - loss: 0.0524 - accuracy: 0.9909 - val_loss: 0.3659 - val_accuracy: 0.8779\n",
      "Epoch 10/20\n",
      "30/30 - 0s - loss: 0.0415 - accuracy: 0.9940 - val_loss: 0.3966 - val_accuracy: 0.8736\n",
      "Epoch 11/20\n",
      "30/30 - 0s - loss: 0.0332 - accuracy: 0.9963 - val_loss: 0.4194 - val_accuracy: 0.8727\n",
      "Epoch 12/20\n",
      "30/30 - 0s - loss: 0.0261 - accuracy: 0.9981 - val_loss: 0.4456 - val_accuracy: 0.8745\n",
      "Epoch 13/20\n",
      "30/30 - 0s - loss: 0.0209 - accuracy: 0.9990 - val_loss: 0.4703 - val_accuracy: 0.8721\n",
      "Epoch 14/20\n",
      "30/30 - 0s - loss: 0.0167 - accuracy: 0.9994 - val_loss: 0.4956 - val_accuracy: 0.8709\n",
      "Epoch 15/20\n",
      "30/30 - 0s - loss: 0.0134 - accuracy: 0.9997 - val_loss: 0.5174 - val_accuracy: 0.8696\n",
      "Epoch 16/20\n",
      "30/30 - 0s - loss: 0.0109 - accuracy: 0.9998 - val_loss: 0.5401 - val_accuracy: 0.8687\n",
      "Epoch 17/20\n",
      "30/30 - 0s - loss: 0.0089 - accuracy: 0.9999 - val_loss: 0.5625 - val_accuracy: 0.8680\n",
      "Epoch 18/20\n",
      "30/30 - 0s - loss: 0.0073 - accuracy: 0.9999 - val_loss: 0.5838 - val_accuracy: 0.8665\n",
      "Epoch 19/20\n",
      "30/30 - 0s - loss: 0.0062 - accuracy: 0.9999 - val_loss: 0.5985 - val_accuracy: 0.8672\n",
      "Epoch 20/20\n",
      "30/30 - 0s - loss: 0.0052 - accuracy: 0.9999 - val_loss: 0.6158 - val_accuracy: 0.8672\n"
     ]
    }
   ],
   "source": [
    "baseline_history = baseline_model.fit(partial_x_train,\n",
    "                                      partial_y_train,\n",
    "                                      epochs=20,\n",
    "                                      batch_size=512,\n",
    "                                      validation_data=(x_val, y_val),\n",
    "                                      verbose=2)"
   ]
  },
  {
   "cell_type": "markdown",
   "metadata": {},
   "source": [
    "#### Create a smaller model\n",
    "Let's create a model with less hidden units to compare against the baseline model that we just created:"
   ]
  },
  {
   "cell_type": "code",
   "execution_count": 7,
   "metadata": {
    "ExecuteTime": {
     "end_time": "2021-09-19T11:40:19.112395Z",
     "start_time": "2021-09-19T11:40:19.066395Z"
    }
   },
   "outputs": [
    {
     "name": "stdout",
     "output_type": "stream",
     "text": [
      "Model: \"sequential_1\"\n",
      "_________________________________________________________________\n",
      "Layer (type)                 Output Shape              Param #   \n",
      "=================================================================\n",
      "dense_3 (Dense)              (None, 4)                 40004     \n",
      "_________________________________________________________________\n",
      "dense_4 (Dense)              (None, 4)                 20        \n",
      "_________________________________________________________________\n",
      "dense_5 (Dense)              (None, 1)                 5         \n",
      "=================================================================\n",
      "Total params: 40,029\n",
      "Trainable params: 40,029\n",
      "Non-trainable params: 0\n",
      "_________________________________________________________________\n"
     ]
    }
   ],
   "source": [
    "smaller_model = tf.keras.Sequential([\n",
    "    tf.keras.layers.Dense(4, activation='relu', input_shape=(NUM_WORDS,)),\n",
    "    tf.keras.layers.Dense(4, activation='relu'),\n",
    "    tf.keras.layers.Dense(1, activation='sigmoid')\n",
    "])\n",
    "\n",
    "smaller_model.compile(optimizer='adam', \n",
    "                      loss='binary_crossentropy',\n",
    "                      metrics=['accuracy'])\n",
    "\n",
    "smaller_model.summary()"
   ]
  },
  {
   "cell_type": "code",
   "execution_count": 8,
   "metadata": {
    "ExecuteTime": {
     "end_time": "2021-09-19T11:40:30.974770Z",
     "start_time": "2021-09-19T11:40:22.597129Z"
    }
   },
   "outputs": [
    {
     "name": "stdout",
     "output_type": "stream",
     "text": [
      "Epoch 1/20\n",
      "30/30 - 1s - loss: 0.6368 - accuracy: 0.6529 - val_loss: 0.5769 - val_accuracy: 0.7531\n",
      "Epoch 2/20\n",
      "30/30 - 0s - loss: 0.5238 - accuracy: 0.7963 - val_loss: 0.5189 - val_accuracy: 0.8160\n",
      "Epoch 3/20\n",
      "30/30 - 0s - loss: 0.4687 - accuracy: 0.8633 - val_loss: 0.4919 - val_accuracy: 0.8349\n",
      "Epoch 4/20\n",
      "30/30 - 0s - loss: 0.4311 - accuracy: 0.8987 - val_loss: 0.4773 - val_accuracy: 0.8425\n",
      "Epoch 5/20\n",
      "30/30 - 0s - loss: 0.4019 - accuracy: 0.9216 - val_loss: 0.4633 - val_accuracy: 0.8629\n",
      "Epoch 6/20\n",
      "30/30 - 0s - loss: 0.3794 - accuracy: 0.9378 - val_loss: 0.4608 - val_accuracy: 0.8562\n",
      "Epoch 7/20\n",
      "30/30 - 0s - loss: 0.3595 - accuracy: 0.9509 - val_loss: 0.4616 - val_accuracy: 0.8549\n",
      "Epoch 8/20\n",
      "30/30 - 0s - loss: 0.3421 - accuracy: 0.9605 - val_loss: 0.4529 - val_accuracy: 0.8665\n",
      "Epoch 9/20\n",
      "30/30 - 0s - loss: 0.3276 - accuracy: 0.9667 - val_loss: 0.4563 - val_accuracy: 0.8627\n",
      "Epoch 10/20\n",
      "30/30 - 0s - loss: 0.3138 - accuracy: 0.9739 - val_loss: 0.4563 - val_accuracy: 0.8638\n",
      "Epoch 11/20\n",
      "30/30 - 0s - loss: 0.3017 - accuracy: 0.9781 - val_loss: 0.4674 - val_accuracy: 0.8573\n",
      "Epoch 12/20\n",
      "30/30 - 0s - loss: 0.2909 - accuracy: 0.9809 - val_loss: 0.4667 - val_accuracy: 0.8595\n",
      "Epoch 13/20\n",
      "30/30 - 0s - loss: 0.2811 - accuracy: 0.9841 - val_loss: 0.4732 - val_accuracy: 0.8569\n",
      "Epoch 14/20\n",
      "30/30 - 0s - loss: 0.2722 - accuracy: 0.9855 - val_loss: 0.4755 - val_accuracy: 0.8578\n",
      "Epoch 15/20\n",
      "30/30 - 0s - loss: 0.2636 - accuracy: 0.9867 - val_loss: 0.4851 - val_accuracy: 0.8540\n",
      "Epoch 16/20\n",
      "30/30 - 0s - loss: 0.2559 - accuracy: 0.9878 - val_loss: 0.4887 - val_accuracy: 0.8549\n",
      "Epoch 17/20\n",
      "30/30 - 0s - loss: 0.2486 - accuracy: 0.9891 - val_loss: 0.4885 - val_accuracy: 0.8566\n",
      "Epoch 18/20\n",
      "30/30 - 0s - loss: 0.2423 - accuracy: 0.9896 - val_loss: 0.4858 - val_accuracy: 0.8580\n",
      "Epoch 19/20\n",
      "30/30 - 0s - loss: 0.2359 - accuracy: 0.9899 - val_loss: 0.4851 - val_accuracy: 0.8587\n",
      "Epoch 20/20\n",
      "30/30 - 0s - loss: 0.2297 - accuracy: 0.9906 - val_loss: 0.5086 - val_accuracy: 0.8536\n"
     ]
    }
   ],
   "source": [
    "smaller_history = smaller_model.fit(partial_x_train,\n",
    "                                    partial_y_train,\n",
    "                                    epochs=20,\n",
    "                                    batch_size=512,\n",
    "                                    validation_data=(x_val, y_val),\n",
    "                                    verbose=2)"
   ]
  },
  {
   "cell_type": "markdown",
   "metadata": {},
   "source": [
    "#### Create a bigger model\n",
    "In this section, let's create an even larger model and see how quickly it begins overfitting."
   ]
  },
  {
   "cell_type": "code",
   "execution_count": 9,
   "metadata": {
    "ExecuteTime": {
     "end_time": "2021-09-19T11:40:33.433056Z",
     "start_time": "2021-09-19T11:40:33.385046Z"
    }
   },
   "outputs": [
    {
     "name": "stdout",
     "output_type": "stream",
     "text": [
      "Model: \"sequential_2\"\n",
      "_________________________________________________________________\n",
      "Layer (type)                 Output Shape              Param #   \n",
      "=================================================================\n",
      "dense_6 (Dense)              (None, 512)               5120512   \n",
      "_________________________________________________________________\n",
      "dense_7 (Dense)              (None, 512)               262656    \n",
      "_________________________________________________________________\n",
      "dense_8 (Dense)              (None, 1)                 513       \n",
      "=================================================================\n",
      "Total params: 5,383,681\n",
      "Trainable params: 5,383,681\n",
      "Non-trainable params: 0\n",
      "_________________________________________________________________\n"
     ]
    }
   ],
   "source": [
    "bigger_model = tf.keras.Sequential([\n",
    "    tf.keras.layers.Dense(512, activation='relu', input_shape=(NUM_WORDS,)),\n",
    "    tf.keras.layers.Dense(512, activation='relu'),\n",
    "    tf.keras.layers.Dense(1, activation='sigmoid')\n",
    "])\n",
    "\n",
    "bigger_model.compile(optimizer='adam', \n",
    "                     loss='binary_crossentropy',\n",
    "                     metrics=['accuracy'])\n",
    "\n",
    "bigger_model.summary()"
   ]
  },
  {
   "cell_type": "code",
   "execution_count": 10,
   "metadata": {
    "ExecuteTime": {
     "end_time": "2021-09-19T11:40:43.285807Z",
     "start_time": "2021-09-19T11:40:34.399167Z"
    }
   },
   "outputs": [
    {
     "name": "stdout",
     "output_type": "stream",
     "text": [
      "Epoch 1/20\n",
      "30/30 - 1s - loss: 0.3892 - accuracy: 0.8337 - val_loss: 0.2801 - val_accuracy: 0.8862\n",
      "Epoch 2/20\n",
      "30/30 - 0s - loss: 0.1347 - accuracy: 0.9521 - val_loss: 0.3353 - val_accuracy: 0.8788\n",
      "Epoch 3/20\n",
      "30/30 - 0s - loss: 0.0475 - accuracy: 0.9856 - val_loss: 0.4286 - val_accuracy: 0.8765\n",
      "Epoch 4/20\n",
      "30/30 - 0s - loss: 0.0078 - accuracy: 0.9991 - val_loss: 0.5430 - val_accuracy: 0.8749\n",
      "Epoch 5/20\n",
      "30/30 - 0s - loss: 0.0014 - accuracy: 1.0000 - val_loss: 0.6168 - val_accuracy: 0.8766\n",
      "Epoch 6/20\n",
      "30/30 - 0s - loss: 4.6797e-04 - accuracy: 1.0000 - val_loss: 0.6654 - val_accuracy: 0.8761\n",
      "Epoch 7/20\n",
      "30/30 - 0s - loss: 2.6649e-04 - accuracy: 1.0000 - val_loss: 0.6946 - val_accuracy: 0.8771\n",
      "Epoch 8/20\n",
      "30/30 - 0s - loss: 1.8362e-04 - accuracy: 1.0000 - val_loss: 0.7162 - val_accuracy: 0.8772\n",
      "Epoch 9/20\n",
      "30/30 - 0s - loss: 1.3633e-04 - accuracy: 1.0000 - val_loss: 0.7341 - val_accuracy: 0.8766\n",
      "Epoch 10/20\n",
      "30/30 - 0s - loss: 1.0633e-04 - accuracy: 1.0000 - val_loss: 0.7500 - val_accuracy: 0.8768\n",
      "Epoch 11/20\n",
      "30/30 - 0s - loss: 8.5165e-05 - accuracy: 1.0000 - val_loss: 0.7640 - val_accuracy: 0.8763\n",
      "Epoch 12/20\n",
      "30/30 - 0s - loss: 6.9806e-05 - accuracy: 1.0000 - val_loss: 0.7768 - val_accuracy: 0.8765\n",
      "Epoch 13/20\n",
      "30/30 - 0s - loss: 5.8280e-05 - accuracy: 1.0000 - val_loss: 0.7885 - val_accuracy: 0.8766\n",
      "Epoch 14/20\n",
      "30/30 - 0s - loss: 4.9041e-05 - accuracy: 1.0000 - val_loss: 0.8002 - val_accuracy: 0.8766\n",
      "Epoch 15/20\n",
      "30/30 - 0s - loss: 4.1567e-05 - accuracy: 1.0000 - val_loss: 0.8124 - val_accuracy: 0.8766\n",
      "Epoch 16/20\n",
      "30/30 - 0s - loss: 3.5123e-05 - accuracy: 1.0000 - val_loss: 0.8258 - val_accuracy: 0.8770\n",
      "Epoch 17/20\n",
      "30/30 - 0s - loss: 2.9404e-05 - accuracy: 1.0000 - val_loss: 0.8406 - val_accuracy: 0.8770\n",
      "Epoch 18/20\n",
      "30/30 - 0s - loss: 2.4361e-05 - accuracy: 1.0000 - val_loss: 0.8568 - val_accuracy: 0.8774\n",
      "Epoch 19/20\n",
      "30/30 - 0s - loss: 2.0155e-05 - accuracy: 1.0000 - val_loss: 0.8738 - val_accuracy: 0.8773\n",
      "Epoch 20/20\n",
      "30/30 - 0s - loss: 1.6665e-05 - accuracy: 1.0000 - val_loss: 0.8906 - val_accuracy: 0.8775\n"
     ]
    }
   ],
   "source": [
    "bigger_history = bigger_model.fit(partial_x_train,\n",
    "                                  partial_y_train,\n",
    "                                  epochs=20,\n",
    "                                  batch_size=512,\n",
    "                                  validation_data=(x_val, y_val),\n",
    "                                  verbose=2)"
   ]
  },
  {
   "cell_type": "markdown",
   "metadata": {},
   "source": [
    "#### Plot the training and validation loss"
   ]
  },
  {
   "cell_type": "code",
   "execution_count": 11,
   "metadata": {
    "ExecuteTime": {
     "end_time": "2021-09-19T11:41:05.991614Z",
     "start_time": "2021-09-19T11:41:05.973610Z"
    }
   },
   "outputs": [
    {
     "data": {
      "text/plain": [
       "dict_keys(['loss', 'accuracy', 'val_loss', 'val_accuracy'])"
      ]
     },
     "execution_count": 11,
     "metadata": {},
     "output_type": "execute_result"
    }
   ],
   "source": [
    "history_dict = baseline_history.history\n",
    "history_dict.keys()"
   ]
  },
  {
   "cell_type": "code",
   "execution_count": 12,
   "metadata": {
    "ExecuteTime": {
     "end_time": "2021-09-19T11:41:06.769713Z",
     "start_time": "2021-09-19T11:41:06.765711Z"
    }
   },
   "outputs": [],
   "source": [
    "def plot_history(histories, key='loss'):\n",
    "    plt.figure(figsize=(16,10))\n",
    "    \n",
    "    for name, history in histories:\n",
    "        val = plt.plot(history.epoch, history.history['val_'+key],\n",
    "                       '--', label=name.title()+' Val')\n",
    "        plt.plot(history.epoch, history.history[key], color=val[0].get_color(),\n",
    "                 label=name.title()+' Train')\n",
    "        \n",
    "    plt.xlabel('Epochs')\n",
    "    plt.ylabel(key.replace('_',' ').title())\n",
    "    plt.legend()\n",
    "    \n",
    "    plt.xlim([0,max(history.epoch)])"
   ]
  },
  {
   "cell_type": "code",
   "execution_count": 13,
   "metadata": {
    "ExecuteTime": {
     "end_time": "2021-09-19T11:41:09.519806Z",
     "start_time": "2021-09-19T11:41:09.363671Z"
    }
   },
   "outputs": [
    {
     "data": {
      "image/png": "[encoded data removed]",
      "text/plain": [
       "<Figure size 1152x720 with 1 Axes>"
      ]
     },
     "metadata": {
      "needs_background": "light"
     },
     "output_type": "display_data"
    }
   ],
   "source": [
    "plot_history([('baseline', baseline_history),\n",
    "              ('smaller', smaller_history),\n",
    "              ('bigger', bigger_history)])"
   ]
  },
  {
   "cell_type": "markdown",
   "metadata": {},
   "source": [
    "The solid lines show the training loss, and the dashed lines show the validation loss (remember: a lower validation loss indicates a better model). Here, the smaller network begins overfitting later (after more than 8 epochs) than the baseline model (start overfitting after about 3 epochs) and its performance degrades much more slowly once it starts overfitting.\n",
    "\n",
    "You can see that the larger network begins overfitting almost right away, after just one epoch, and overfits much more severely. **The more capacity the network has, the quicker it will be able to model the training data (resulting in a low training loss)**. But we have to be suspicious whether it is overfitted or not (resulting in a large difference between the training and validation loss)."
   ]
  },
  {
   "cell_type": "markdown",
   "metadata": {},
   "source": [
    "<br/><br/>\n",
    "\n",
    "#### Solution 1: Add weight regularization\n",
    "\n",
    "Given some training data and a network architecture, there are multiple sets of weights values (multiple models) that can explain the data, and simpler models are less likely to overfit than complex ones. A \"simple model\" in this context is a model where the distribution of parameter values has less entropy (or a model with fewer parameters altogether, as we saw in the section above). \n",
    "\n",
    "One powerful way to mitigate overfitting is to **put constraints on the complexity of a network by forcing its weights only to take small values**, which leads to the distribution of weight values more regular. This is called **_weight regularization_**, and it is done by adding a cost term associated with weights of the model to the loss function of the network. With this added term, now the model has to minimize not just loss function and it has to balance model complexity and loss function simultaneously.\n",
    "\n",
    "<img src=\"https://github.com/keai-kaist/CS470-2021-2/blob/main/Lab1/Sep%209/images/regularization.png?raw=true\"  width=\"800\">\n",
    "\n",
    "Here, large weighting parameter will make the model with smaller weights and small weighting parameter will make the model parameters free which will lead to complex model.\n",
    "\n",
    "This cost comes in two flavors:\n",
    "\n",
    " - [L1 regularization](https://developers.google.com/machine-learning/glossary/#L1_regularization), where the cost added is proportional to the **absolute value** of the weights coefficients (i.e. to what is called the \"L1 norm\" of the weights).\n",
    "\n",
    "<img src=\"https://github.com/keai-kaist/CS470-2021-2/blob/main/Lab1/Sep%209/images/l1.png?raw=true\"  width=\"400\">\n",
    "\n",
    " - [L2 regularization](https://developers.google.com/machine-learning/glossary/#L2_regularization), where the cost added is proportional to the **square of the value** of the weights coefficients (i.e. to what is called the squared \"L2 norm\" of the weights). L2 regularization is also called weight decay in the context of neural networks.\n",
    " \n",
    "<img src=\"https://github.com/keai-kaist/CS470-2021-2/blob/main/Lab1/Sep%209/images/l2.png?raw=true\"  width=\"400\">\n",
    " \n",
    "In `tf.keras`, weight regularization is added by passing weight regularizer instances to layers as keyword arguments. Let's add L2 weight regularization now."
   ]
  },
  {
   "cell_type": "code",
   "execution_count": 14,
   "metadata": {
    "ExecuteTime": {
     "end_time": "2021-09-19T11:42:08.138478Z",
     "start_time": "2021-09-19T11:42:07.843412Z"
    }
   },
   "outputs": [
    {
     "ename": "ValueError",
     "evalue": "This model has not yet been built. Build the model first by calling `build()` or calling `fit()` with some data, or specify an `input_shape` argument in the first layer(s) for automatic build.",
     "output_type": "error",
     "traceback": [
      "\u001b[1;31m---------------------------------------------------------------------------\u001b[0m",
      "\u001b[1;31mValueError\u001b[0m                                Traceback (most recent call last)",
      "\u001b[1;32m~\\AppData\\Local\\Temp/ipykernel_7700/3567955980.py\u001b[0m in \u001b[0;36m<module>\u001b[1;34m\u001b[0m\n\u001b[0;32m     15\u001b[0m                  metrics=['accuracy'])\n\u001b[0;32m     16\u001b[0m \u001b[1;33m\u001b[0m\u001b[0m\n\u001b[1;32m---> 17\u001b[1;33m \u001b[0ml2_model\u001b[0m\u001b[1;33m.\u001b[0m\u001b[0msummary\u001b[0m\u001b[1;33m(\u001b[0m\u001b[1;33m)\u001b[0m\u001b[1;33m\u001b[0m\u001b[1;33m\u001b[0m\u001b[0m\n\u001b[0m",
      "\u001b[1;32m~\\anaconda3\\envs\\tf\\lib\\site-packages\\keras\\engine\\training.py\u001b[0m in \u001b[0;36msummary\u001b[1;34m(self, line_length, positions, print_fn)\u001b[0m\n\u001b[0;32m   2519\u001b[0m     \"\"\"\n\u001b[0;32m   2520\u001b[0m     \u001b[1;32mif\u001b[0m \u001b[1;32mnot\u001b[0m \u001b[0mself\u001b[0m\u001b[1;33m.\u001b[0m\u001b[0mbuilt\u001b[0m\u001b[1;33m:\u001b[0m\u001b[1;33m\u001b[0m\u001b[1;33m\u001b[0m\u001b[0m\n\u001b[1;32m-> 2521\u001b[1;33m       raise ValueError('This model has not yet been built. '\n\u001b[0m\u001b[0;32m   2522\u001b[0m                        \u001b[1;34m'Build the model first by calling `build()` or calling '\u001b[0m\u001b[1;33m\u001b[0m\u001b[1;33m\u001b[0m\u001b[0m\n\u001b[0;32m   2523\u001b[0m                        \u001b[1;34m'`fit()` with some data, or specify '\u001b[0m\u001b[1;33m\u001b[0m\u001b[1;33m\u001b[0m\u001b[0m\n",
      "\u001b[1;31mValueError\u001b[0m: This model has not yet been built. Build the model first by calling `build()` or calling `fit()` with some data, or specify an `input_shape` argument in the first layer(s) for automatic build."
     ]
    }
   ],
   "source": [
    "l2_model = tf.keras.Sequential([\n",
    "    # TODO: add a first dense layer with 16 nodes applying ReLU activation function \n",
    "    #                   with L2 regularization term  (tf.keras.regularizers.l2)\n",
    "    \n",
    "    \n",
    "    # TODO: add a second dense layer with 16 nodes applying ReLU activation function\n",
    "    #                   with L2 regularization term \n",
    "\n",
    "    \n",
    "    # TODO: add a last dense layer with only 1 node applying Softmax activation function\n",
    "])\n",
    "\n",
    "l2_model.compile(optimizer='adam', \n",
    "                 loss='binary_crossentropy',\n",
    "                 metrics=['accuracy'])\n",
    "\n",
    "l2_model.summary()"
   ]
  },
  {
   "cell_type": "markdown",
   "metadata": {},
   "source": [
    "`l2(0.001)` means that every coefficient in the weight matrix of the layer will add 0.001 * weight_coefficient_value**2 to the total loss of the network. Note that because this penalty is only added at training time, the loss for this network will be much higher at training than at test time.\n",
    "\n",
    "Now let's see the effect of adding L2 regularization penalty:"
   ]
  },
  {
   "cell_type": "code",
   "execution_count": null,
   "metadata": {},
   "outputs": [],
   "source": [
    "# Train the l2 model with partial training data and validation data we made \n",
    "l2_model_history = l2_model.fit(partial_x_train,\n",
    "                                partial_y_train,\n",
    "                                epochs=20,\n",
    "                                batch_size=512,\n",
    "                                validation_data=(x_val, y_val),\n",
    "                                verbose=2)"
   ]
  },
  {
   "cell_type": "code",
   "execution_count": null,
   "metadata": {},
   "outputs": [],
   "source": [
    "plot_history([('bigger', bigger_history),\n",
    "              ('l2', l2_model_history)])"
   ]
  },
  {
   "cell_type": "markdown",
   "metadata": {},
   "source": [
    "As you can see, the L2 regularized model has become much more resistant to overfitting than the bigger model when trained too long."
   ]
  },
  {
   "cell_type": "markdown",
   "metadata": {},
   "source": [
    "<br/><br/>\n",
    "\n",
    "#### Solution 2: Add dropout\n",
    "\n",
    "Dropout is one of the most effective and commonly used regularization techniques for neural networks. Dropout, applied to a layer, consists of randomly \"dropping out\" (i.e. set to zero) a number of output features of the layer during training. For example, you roll a dice to decide whether to include a node in training.\n",
    "\n",
    "<img src=\"https://github.com/keai-kaist/CS470-2021-2/blob/main/Lab1/Sep%209/images/dice.png?raw=true\"  width=\"500\">\n",
    "\n",
    "               Slide credit: KAIST CS576 : Computer Vision (Seunghoon Hong)\n",
    "<br/>\n",
    "\n",
    "Randomly turn off activations with some probability _p_\n",
    " * Intuition: add stochasticity to the network to prevent memorization (every forward propagation leads to different outputs even for the same input)\n",
    "\n",
    "<br/>\n",
    "\n",
    "The `dropout rate` is the fraction of the features that are being zeroed-out; it is usually set between 0.2 and 0.5. Dropout will randomly turn off activations with the probability `dropout rate`.\n",
    "\n",
    "\n",
    "At test time, no units are dropped out, and instead the layer's output values are scaled down by a factor equal to the dropout rate. (We do not have to implement this action since `tf.Dropout` will do these operations by itself.)\n",
    "\n",
    "<img src=\"https://github.com/keai-kaist/CS470-2021-2/blob/main/Lab1/Sep%209/images/dropout2.png?raw=true\"  width=\"500\">\n",
    "\n",
    "Training neural nets with dropout has the same effect as **training multiple networks with ensemble**. If we assume that there are N units in the original neural net, then the number of possible networks is 2^N. So we have the approximately same effect as ensembling all these 2^N networks together.\n",
    "\n",
    "In `tf.keras` you can introduce dropout in a network via the Dropout layer, which gets applied to the output of layer right before.\n",
    "\n",
    "Let's add two Dropout layers in our IMDB network to see how well they do at reducing overfitting:"
   ]
  },
  {
   "cell_type": "code",
   "execution_count": null,
   "metadata": {},
   "outputs": [],
   "source": [
    "dp_model = tf.keras.Sequential([\n",
    "    # TODO: add a first dense layer with 16 nodes applying ReLU activation function \n",
    "    \n",
    "    # TODO: add a dropout layer with 0.5 dropout rate\n",
    "    \n",
    "    # TODO: add a second dense layer with 16 nodes applying ReLU activation function\n",
    "    \n",
    "    # TODO: add a dropout layer with 0.5 dropout rate\n",
    "    \n",
    "    # TODO: add a last dense layer with only 1 node applying Softmax activation function\n",
    "])\n",
    "\n",
    "dp_model.compile(optimizer='adam', \n",
    "                 loss='binary_crossentropy',\n",
    "                 metrics=['accuracy'])\n",
    "\n",
    "dp_model.summary()"
   ]
  },
  {
   "cell_type": "code",
   "execution_count": null,
   "metadata": {},
   "outputs": [],
   "source": [
    "# Train the dropout model with partial training data and validation data we made \n",
    "\n",
    "dp_model_history = dp_model.fit(partial_x_train,\n",
    "                                partial_y_train,\n",
    "                                epochs=20,\n",
    "                                batch_size=512,\n",
    "                                validation_data=(x_val, y_val),\n",
    "                                verbose=2)"
   ]
  },
  {
   "cell_type": "code",
   "execution_count": null,
   "metadata": {},
   "outputs": [],
   "source": [
    "plot_history([('baseline', baseline_history),\n",
    "              ('dropout', dp_model_history)])"
   ]
  },
  {
   "cell_type": "markdown",
   "metadata": {},
   "source": [
    "Also, we can check the effect of dropout by drawing a graph of the accuracies for both models."
   ]
  },
  {
   "cell_type": "code",
   "execution_count": null,
   "metadata": {},
   "outputs": [],
   "source": [
    "plot_history([('baseline', baseline_history),\n",
    "              ('dropout', dp_model_history)],key='accuracy')"
   ]
  },
  {
   "cell_type": "markdown",
   "metadata": {},
   "source": [
    "Here the validation accuracy is higher when dropout is applied to the model. Adding dropout made a clear improvement over the baseline model.\n",
    "\n",
    "To recap: here the most common ways to prevent overfitting in neural networks:\n",
    "\n",
    "- Early stopping before overfitting.\n",
    "- Get more training data.\n",
    "- Reduce the capacity of the network.\n",
    "- Add weight regularization.\n",
    "- Add dropout.\n",
    "\n",
    "And two important approaches not covered in this guide are data-augmentation and batch normalization."
   ]
  }
 ],
 "metadata": {
  "kernelspec": {
   "display_name": "Python 3 (ipykernel)",
   "language": "python",
   "name": "python3"
  },
  "language_info": {
   "codemirror_mode": {
    "name": "ipython",
    "version": 3
   },
   "file_extension": ".py",
   "mimetype": "text/x-python",
   "name": "python",
   "nbconvert_exporter": "python",
   "pygments_lexer": "ipython3",
   "version": "3.7.11"
  }
 },
 "nbformat": 4,
 "nbformat_minor": 4
}
