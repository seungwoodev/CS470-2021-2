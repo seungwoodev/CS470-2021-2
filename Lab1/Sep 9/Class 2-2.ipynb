{
 "cells": [
  {
   "cell_type": "markdown",
   "source": [
    "# CS470 Introduction to Artificial Intelligence\r\n",
    "## Deep Learning Practice \r\n",
    "#### TA. Minho Sim\r\n",
    "\r\n",
    "\r\n",
    "---"
   ],
   "metadata": {}
  },
  {
   "cell_type": "markdown",
   "source": [
    "## 2-2. Text classification using IMDB dataset\n",
    "\n",
    "#### Topics for this chapter\n",
    " * IMDB datset\n",
    " * One-hot Encoding\n",
    " * Overfitting\n",
    "---"
   ],
   "metadata": {}
  },
  {
   "cell_type": "markdown",
   "source": [
    "#### IMDB dataset\n",
    "\n",
    "The IMDB dataset is data that contains movie review comments and positive or negative label representing the evaluation of the audience. This contains the text comments for 50,000 movie reviews from the [Internet Movie Database](https://www.imdb.com/). These data are splited in half so that we can get 25,000 reviews for training and 25,000 reviews for testing. The training and testing sets are balanced and unbiased, which means they contain an equal number of positive and negative reviews.\n",
    "\n",
    "#### Importance of balanced dataset\n",
    "Let's assume that we have 9,999 positive reviews and 1 negative review. Without any training, we can get 99.99% accuracy by just predicting all reviews as positive. This situation is called the _Accuracy Paradox_. Since we're using accuracy as a model metric, it's important to **balance the dataset well**. In the case of MNIST dataset, we can say that the dataset is balanced when we have about 60,000/10=6,000 images per digit class. (60,000 is the total number of images and 10 is the number of class)"
   ],
   "metadata": {}
  },
  {
   "cell_type": "code",
   "execution_count": 4,
   "source": [
    "from __future__ import absolute_import, division, print_function, unicode_literals\r\n",
    "\r\n",
    "try:\r\n",
    "  # %tensorflow_version only exists in Colab.\r\n",
    "  %tensorflow_version 2.x\r\n",
    "except Exception:\r\n",
    "    pass\r\n",
    "import tensorflow as tf\r\n",
    "print('Tensorflow: ', tf.__version__)\r\n",
    "\r\n",
    "import numpy as np\r\n",
    "import matplotlib.pyplot as plt"
   ],
   "outputs": [
    {
     "output_type": "stream",
     "name": "stdout",
     "text": [
      "Tensorflow:  2.6.0\n"
     ]
    }
   ],
   "metadata": {}
  },
  {
   "cell_type": "markdown",
   "source": [
    "To handle the text dataset, we first need to transform the data into a form that can be used for training. There are two common methods we can use when dealing with text data, **one-hot encoding** and **word embedding**. In this practice, we'll use one-hot encoding method (Word embedding will be covered later in the RNN part). Before using one-hot encoding, let's take a quick look at what one-hot encoding is.\r\n",
    "\r\n",
    "<img src=\"https://github.com/keai-kaist/CS470-2021-2/blob/main/Lab1/Sep%209/images/one_vs_we.png?raw=true\" width=1000>\r\n",
    "<br/><br/>\r\n",
    "\r\n",
    "#### One-hot encoding\r\n",
    "One-hot encoding is a vector representation of sentences. It has the **vector dimension as the size of the word set** and **1 is assigned to the index of the word to be expressed / 0 is assigned to the other index**. The detailed procedure of one-hot encoding is as follows.\r\n",
    "\r\n",
    "(1) Give each word an unique index.\r\n",
    "\r\n",
    "(2) 1 is assigned to the index of the word to be expressed, and 0 is assigned otherwise.\r\n",
    "\r\n",
    "<br/>\r\n",
    "I will explain this method with simple example.\r\n",
    "<br/>\r\n",
    "Let's assume that we have a word dictionary that contains 7 words, 'today' ,'I' ,'was' ,'studied' ,'happy' ,'math' ,'not'. We can map these words to integers 0-6. \r\n",
    "\r\n",
    "<br/>\r\n",
    "<img src=\"https://github.com/keai-kaist/CS470-2021-2/blob/main/Lab1/Sep%209/images/onehot.png?raw=true\" width=300>\r\n",
    "<br/>\r\n",
    "\r\n",
    "Now, we can represent sentences consisting of words from the dictionary. \r\n",
    "\r\n",
    "For example, a sentence 'I studied math today' can be represented as [0, 1, 3, 5] (not considering the order).\r\n",
    "If we make a vector that has the vector dimension as the size of the dictionary, we get a vector as below.\r\n",
    "\r\n",
    "<img src=\"https://github.com/keai-kaist/CS470-2021-2/blob/main/Lab1/Sep%209/images/empty.png?raw=true\" width=300>\r\n",
    "\r\n",
    "After assining 1 to the index of the words in the original list ([0, 1, 3, 5]), we get one-hot encoded vector as below.\r\n",
    "\r\n",
    "<img src=\"https://github.com/keai-kaist/CS470-2021-2/blob/main/Lab1/Sep%209/images/convert.png?raw=true\" width=300>"
   ],
   "metadata": {}
  },
  {
   "cell_type": "markdown",
   "source": [
    "#### Limitation of One-hot encoding\n",
    "One-hot encoding has the disadvantage that if the number of words increases, the space required to store the vector increases too. If we have 10,000 words that we want to express, regardless of the length of the sentence to be expressed, a vector of length 10,000 is required. (even for a sentence that contains only one word.)\n",
    "\n",
    "Also, the one-hot vector encoding cannot express the similarity of words. Assume that we have 4 words 'wolf', 'dog', 'tiger', 'chair'. We can consider 'wolf', 'dog', 'tiger' have semantically similar context since they are all animals and 'chair' is less similar to the previous three words. In one-hot encoding, since inner-product similarity between two different words is always 0 and Euclidean distance between them is always $\\sqrt{2}$, there is no way to express the degree of similarity between words.\n",
    "\n",
    "Despite these shortcomings, one-hot encoding is easy to understand and use. Another reason for using the one-hot encding method is to check the overfitting problem in next practice. Therefore in this practice, we will use one-hot encoding.\n",
    "Let's first download the IMDB dataset:"
   ],
   "metadata": {}
  },
  {
   "cell_type": "code",
   "execution_count": null,
   "source": [
    "NUM_WORDS = 10000\r\n",
    "(train_data, train_labels), (test_data, test_labels) = tf.keras.datasets.imdb.load_data(num_words=NUM_WORDS)"
   ],
   "outputs": [],
   "metadata": {}
  },
  {
   "cell_type": "markdown",
   "source": [
    "The argument num_words=10000 keeps the top 10,000 most frequently occurring words in the training data. The rare words are discarded to keep the size of the data manageable."
   ],
   "metadata": {}
  },
  {
   "cell_type": "markdown",
   "source": [
    "Let's take a moment to understand the format of the data."
   ],
   "metadata": {}
  },
  {
   "cell_type": "code",
   "execution_count": null,
   "source": [
    "print(\"Training entries: {}, labels: {}\".format(len(train_data), len(train_labels)))\r\n",
    "print(\"Train data[0]: {}. \\nlabel[0]: {}\".format(train_data[0], train_labels[0]))"
   ],
   "outputs": [],
   "metadata": {}
  },
  {
   "cell_type": "markdown",
   "source": [
    "The dataset comes preprocessed: each example is an array of integers representing the words of the movie review. Each label is an integer value of either 0 or 1, where 0 is a negative review, and 1 is a positive review.\n",
    "\n",
    "From each data, we'll create an ont-hot encodering vector with a 10,000-dimension"
   ],
   "metadata": {}
  },
  {
   "cell_type": "code",
   "execution_count": 24,
   "source": [
    "def multi_hot_sequences(sequences, dimension):\r\n",
    "    # Create an all-zero matrix of shape (len(sequences), dimension)\r\n",
    "    results = np.zeros((len(sequences), dimension))\r\n",
    "    for i, word_indices in enumerate(sequences):\r\n",
    "        results[i, word_indices] = 1.0  # set specific indices of results[i] to 1s\r\n",
    "    return results\r\n",
    "\r\n",
    "NUM_WORDS = 10000\r\n",
    "\r\n",
    "train_data = multi_hot_sequences(train_data, dimension=NUM_WORDS)\r\n",
    "test_data = multi_hot_sequences(test_data, dimension=NUM_WORDS)"
   ],
   "outputs": [],
   "metadata": {}
  },
  {
   "cell_type": "code",
   "execution_count": null,
   "source": [
    "print(\"Train data[0]: {}. \\nlabel[0]: {}\".format(train_data[0], train_labels[0]))"
   ],
   "outputs": [],
   "metadata": {}
  },
  {
   "cell_type": "code",
   "execution_count": null,
   "source": [
    "plt.plot(train_data[0])"
   ],
   "outputs": [],
   "metadata": {}
  },
  {
   "cell_type": "markdown",
   "source": [
    "#### Build model\n",
    "\n",
    "Similar to previous model, we'll define a simple model using the [`tf.keras.layers.Dense`](https://www.tensorflow.org/versions/r2.0/api_docs/python/tf/keras/layers/Dense) layer."
   ],
   "metadata": {}
  },
  {
   "cell_type": "code",
   "execution_count": null,
   "source": [
    "# TODO: define a sequential model\r\n",
    "model = tf.keras.Sequential([\r\n",
    "    # TODO: add a first dense layer with 16 nodes applying ReLU activation function\r\n",
    "    \r\n",
    "    # TODO: add a second dense layer with 16 nodes applying ReLU activation function\r\n",
    "    \r\n",
    "    # TODO: add a last dense layer with only 1 node applying Softmax activation function\r\n",
    "    \r\n",
    "])"
   ],
   "outputs": [],
   "metadata": {}
  },
  {
   "cell_type": "code",
   "execution_count": null,
   "source": [
    "model.summary()"
   ],
   "outputs": [],
   "metadata": {}
  },
  {
   "cell_type": "markdown",
   "source": [
    "#### Compile the model\n",
    "\n",
    "After defining the model structure, we configure the model such as optimizer, loss and metrics for training. We will use loss function as `binary_crossentropy` which is popular for binary classification problem."
   ],
   "metadata": {}
  },
  {
   "cell_type": "code",
   "execution_count": 29,
   "source": [
    "model.compile(optimizer='adam', \r\n",
    "              loss='binary_crossentropy',\r\n",
    "              metrics=['accuracy'])"
   ],
   "outputs": [],
   "metadata": {}
  },
  {
   "cell_type": "markdown",
   "source": [
    "#### Create a validation set\n",
    "\n",
    "When training, we want to check the accuracy of the model on data it hasn't seen before. So we will create a **validation set** by setting apart 10,000 examples from the original training data. The reason that we do not use the testing set now is our goal is to develop and tune our model using only the training data and then use the test data just once to evaluate our accuracy. Splitting whole data into three sub-data (training/validation/test) is very common."
   ],
   "metadata": {}
  },
  {
   "cell_type": "code",
   "execution_count": 30,
   "source": [
    "# First 10,000 elements of train_data\r\n",
    "x_val =\r\n",
    "\r\n",
    "# Rest elements of train_data\r\n",
    "partial_x_train =\r\n",
    "\r\n",
    "\r\n",
    "# First 10,000 elements of train_labels\r\n",
    "y_val = \r\n",
    "\r\n",
    "# Rest elements of train_labels\r\n",
    "partial_y_train ="
   ],
   "outputs": [],
   "metadata": {}
  },
  {
   "cell_type": "markdown",
   "source": [
    "#### Train the model\n",
    "\n",
    "Then, we'll start to train the model."
   ],
   "metadata": {}
  },
  {
   "cell_type": "code",
   "execution_count": 31,
   "source": [
    "# Define the batch size and the number of epochs to use during training\r\n",
    "BATCH_SIZE = 512\r\n",
    "EPOCHS = 20"
   ],
   "outputs": [],
   "metadata": {}
  },
  {
   "cell_type": "code",
   "execution_count": null,
   "source": [
    "# TODO: train the model using (train_images, train_labels). \r\n",
    "#       do not forget to set epochs and batch size as the parameters!\r\n",
    "model_history = model.fit(_________,\r\n",
    "                          _________,\r\n",
    "                          epochs=_________,\r\n",
    "                          batch_size=_________,\r\n",
    "                          validation_data=(____, ____),\r\n",
    "                          verbose=1)"
   ],
   "outputs": [],
   "metadata": {}
  },
  {
   "cell_type": "markdown",
   "source": [
    "With this approach our model reaches a validation accuracy of around 88% (note the model is overfitting, training accuracy is significantly higher)."
   ],
   "metadata": {}
  },
  {
   "cell_type": "markdown",
   "source": [
    "#### Evaluate the model\n",
    "And let's see how the model performs. Two values will be returned, loss (a number that represents our error, lower values are better) and accuracy (higher values are better)."
   ],
   "metadata": {}
  },
  {
   "cell_type": "code",
   "execution_count": null,
   "source": [
    "results = model.evaluate(test_data, test_labels, verbose=0)\r\n",
    "\r\n",
    "print(results)"
   ],
   "outputs": [],
   "metadata": {}
  },
  {
   "cell_type": "markdown",
   "source": [
    "This fairly naive approach achieves an accuracy of about 85%."
   ],
   "metadata": {}
  },
  {
   "cell_type": "markdown",
   "source": [
    "#### Plotting network performance trend\n",
    "Again let's plot the trend of loss and accuracy of our model."
   ],
   "metadata": {}
  },
  {
   "cell_type": "code",
   "execution_count": null,
   "source": [
    "history_dict = model_history.history\r\n",
    "history_dict.keys()"
   ],
   "outputs": [],
   "metadata": {}
  },
  {
   "cell_type": "code",
   "execution_count": null,
   "source": [
    "history_dict = model_history.history\r\n",
    "\r\n",
    "acc = history_dict['accuracy']\r\n",
    "val_acc = history_dict['val_accuracy']\r\n",
    "loss = history_dict['loss']\r\n",
    "val_loss = history_dict['val_loss']\r\n",
    "\r\n",
    "epochs = range(1, len(acc) + 1)\r\n",
    "\r\n",
    "plt.figure(figsize=(12,9))\r\n",
    "plt.plot(epochs, loss, 'bo', label='Training loss')\r\n",
    "plt.plot(epochs, val_loss, 'b', label='Validation loss')\r\n",
    "plt.title('Training and validation loss')\r\n",
    "plt.xlabel('Epochs')\r\n",
    "plt.ylabel('Loss')\r\n",
    "plt.legend()\r\n",
    "plt.show()\r\n",
    "\r\n",
    "plt.figure(figsize=(12,9))\r\n",
    "plt.plot(epochs, acc, 'bo', label='Training acc')\r\n",
    "plt.plot(epochs, val_acc, 'b', label='Validation acc',color='green')\r\n",
    "plt.title('Training and validation accuracy')\r\n",
    "plt.xlabel('Epochs')\r\n",
    "plt.ylabel('Accuracy')\r\n",
    "plt.legend(loc='lower right')\r\n",
    "plt.ylim((0.5,1))\r\n",
    "plt.show()"
   ],
   "outputs": [],
   "metadata": {}
  },
  {
   "cell_type": "markdown",
   "source": [
    "In this plot, the dots represent the training loss and accuracy, and the solid lines are the validation loss and accuracy.\n",
    "\n",
    "Notice that the training loss decreases with each epoch and the training accuracy increases with each epoch. This is expected result when using a gradient descent optimization—based method. It will minimize the loss function value on every iteration.\n",
    "\n",
    "However, this isn't the case for the validation loss and accuracy. Validation accuracy seems to peak after about very few epochs and validation loss goes up after that point. This is an example of **_overfitting_: the model performs better on the training data than it does on data it has never seen before.** After this point, the model over-optimized and learned representations specific to the training data that do not generalize to test data.\n",
    "\n",
    "To cope with this situation, we can prevent overfitting by simply stopping the training after few epochs. And in the next practice, we will learn some techniques to prevent overfitting and make model with generality."
   ],
   "metadata": {}
  }
 ],
 "metadata": {
  "kernelspec": {
   "name": "python3",
   "display_name": "Python 3.7.11 64-bit ('tf': conda)"
  },
  "language_info": {
   "codemirror_mode": {
    "name": "ipython",
    "version": 3
   },
   "file_extension": ".py",
   "mimetype": "text/x-python",
   "name": "python",
   "nbconvert_exporter": "python",
   "pygments_lexer": "ipython3",
   "version": "3.7.11"
  },
  "interpreter": {
   "hash": "6a46531c2c5b14c69fb4baabde8f644ca57b49d7a02f836ac6a0e182364721fa"
  }
 },
 "nbformat": 4,
 "nbformat_minor": 4
}