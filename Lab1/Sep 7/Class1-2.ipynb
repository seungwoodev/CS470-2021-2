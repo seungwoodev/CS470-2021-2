{
 "cells": [
  {
   "cell_type": "markdown",
   "source": [
    "# CS470 인공지능개론\n",
    "## Deep Learning Practice \n",
    "#### Prof. Ho-Jin Choi\n",
    "#### School of Computing, KAIST\n",
    "\n",
    "---"
   ],
   "metadata": {
    "id": "zxdnP3UIF525"
   }
  },
  {
   "cell_type": "markdown",
   "source": [
    "# Introduction to Tensorflow"
   ],
   "metadata": {
    "id": "9cO9XsNIF52_"
   }
  },
  {
   "cell_type": "markdown",
   "source": [
    "1. **Basic of Tensorflow**  \n",
    "    1-1. Introduction to Tensorflow  \n",
    "    1-2. Tensors and operations based on eager execution  \n",
    "    1-3. Neural networks in TensorFlow \n",
    "    \n",
    "1. **MLP-based Classification**   \n",
    "    2-1. Image classification  \n",
    "    2-2. Text classification  \n",
    "    2-3. Overfitting and how to fight it  \n",
    "    2-4. Save and restore models\n",
    "---"
   ],
   "metadata": {
    "id": "GUxyTAHGF52_"
   }
  },
  {
   "cell_type": "markdown",
   "source": [
    "## 1. Basic of Tensorflow"
   ],
   "metadata": {
    "id": "MhiEciEPF53A"
   }
  },
  {
   "cell_type": "markdown",
   "source": [
    "\n",
    "\n",
    "- [**TensorFlow**](https://www.tensorflow.org) is a software library, developed by Google Brain Team within Google's Machine Learning Intelligence research organization, for the purposes of conducting machine learning and deep neural network research.\n",
    "- TensorFlow combines the computational algebra of compilation optimization techniques, making easy the calculation of many mathematical expressions that would be difficult to calculate, instead."
   ],
   "metadata": {
    "id": "b5oQ48AsF53A"
   }
  },
  {
   "cell_type": "markdown",
   "source": [
    "#### Main features\n",
    "* Defining, optimizing, and efficiently calculating mathematical expressions involving multi-dimensional arrays (tensors).\n",
    "* Programming support of **deep neural networks** and machine learning techniques.\n",
    "* Transparent use of GPU computing, automating management and optimization of the same memory and the data used. You can write the same code and run it either on CPUs or GPUs. More specifically, TensorFlow will figure out which parts of the computation should be moved to the GPU.\n",
    "* High scalability of computation across machines and huge data sets."
   ],
   "metadata": {
    "id": "TNVy4tZVF53D"
   }
  },
  {
   "cell_type": "markdown",
   "source": [
    "### 1-2. Tensors and operations based on eager execution\n",
    "\n",
    "TensorFlow is called TensorFlow because it handles the flow (node/mathematical operation) of Tensors (data), which you can think of as multidimensional arrays. In TensorFlow, computations can be thought of as graphs. In the previous version (≤1.15) of Tensorflow, we implemented a computation graph thought a session we defined and ran the graphs in the session. But, the latest version does not use the session, it can be used simply through an eager executation.\n",
    "\n",
    "[**Eager execution**](https://www.tensorflow.org/guide/eager) is an imperative programming environment that evaluates operations immediately, without building graphs: operations return concrete values instead of constructing a computational graph to run later. This makes it easy to get started with TensorFlow and debug models, and it reduces boilerplate as well."
   ],
   "metadata": {
    "id": "zxAJ-zmYF53E"
   }
  },
  {
   "cell_type": "code",
   "execution_count": 2,
   "source": [
    "from __future__ import absolute_import, division, print_function, unicode_literals\r\n",
    "\r\n",
    "# Install TensorFlow\r\n",
    "\r\n",
    "import tensorflow as tf\r\n",
    "!python --version\r\n",
    "print('Tensorflow: ', tf.__version__)\r\n",
    "\r\n",
    "import cProfile\r\n",
    "import numpy as np\r\n",
    "import matplotlib.pyplot as plt"
   ],
   "outputs": [
    {
     "output_type": "stream",
     "name": "stdout",
     "text": [
      "Python 3.7.11\n",
      "Tensorflow:  2.6.0\n"
     ]
    }
   ],
   "metadata": {
    "id": "EKpJQVrKF53E"
   }
  },
  {
   "cell_type": "code",
   "execution_count": 3,
   "source": [
    "# In Tensorflow 2.0, eager execution is enabled by default.\r\n",
    "tf.executing_eagerly()"
   ],
   "outputs": [
    {
     "output_type": "execute_result",
     "data": {
      "text/plain": [
       "True"
      ]
     },
     "metadata": {},
     "execution_count": 3
    }
   ],
   "metadata": {
    "collapsed": true,
    "id": "_6mbRAGpF53F"
   }
  },
  {
   "cell_type": "markdown",
   "source": [
    "Now, let's define simple computation graph under the eager execution:\n",
    "\n",
    "![Computation Graph - Add Operation](https://i.imgur.com/K34aWFr.png)"
   ],
   "metadata": {
    "id": "XdsDVQOxF53G"
   }
  },
  {
   "cell_type": "code",
   "execution_count": 4,
   "source": [
    "# TODO: Using the eager execution, create the nodes in the graph, then check the output\r\n",
    "a = tf.constant(1, name='a')\r\n",
    "b = tf.constant(2, name='b')\r\n",
    "c = tf.add(a, b, name='c')\r\n",
    "\r\n",
    "print(c)"
   ],
   "outputs": [
    {
     "output_type": "stream",
     "name": "stdout",
     "text": [
      "tf.Tensor(3, shape=(), dtype=int32)\n"
     ]
    }
   ],
   "metadata": {
    "collapsed": true,
    "id": "a6xPXJU4F53G"
   }
  },
  {
   "cell_type": "markdown",
   "source": [
    "Notice how we've created a computation graph consisting of TensorFlow operations, and how the output is a Tensor with value 76 -- we've just created a computation graph consisting of operations, and it's executed them and given us back the result. That's because of Eager!"
   ],
   "metadata": {
    "id": "XnD-mB9VF53G"
   }
  },
  {
   "cell_type": "markdown",
   "source": [
    "#### Not eager execution (FYI)\n",
    "```python\n",
    "a = tf.constant(1, name='a')\n",
    "b = tf.constant(2, name='b')\n",
    "c = tf.add(a, b, name='c')\n",
    "\n",
    "with tf.Session() as sess:\n",
    "    print(sess.run(c))\n",
    "```"
   ],
   "metadata": {
    "id": "irQiEK8-F53G"
   }
  },
  {
   "cell_type": "markdown",
   "source": [
    "#### Tensor\n",
    "A **tensor** is a generalization of vectors and matrices to potentially higher dimensions. Internally, TensorFlow represents tensors as n-dimensional arrays of base datatypes."
   ],
   "metadata": {
    "id": "h0jI6kwpF53G"
   }
  },
  {
   "cell_type": "markdown",
   "source": [
    "#### 1-D Tensor (Vector)"
   ],
   "metadata": {
    "id": "vmOVOP5GF53H"
   }
  },
  {
   "cell_type": "code",
   "execution_count": 5,
   "source": [
    "import numpy as np\r\n",
    "from functools import partial\r\n",
    "pprint = partial(print, end='\\n\\n')\r\n",
    "\r\n",
    "tensor_1d = tf.constant([1, 2.5, 4.6, 5.75, 9.7], dtype=tf.float64, name='tensor_1d')\r\n",
    "print('tensor_1d =', tensor_1d)"
   ],
   "outputs": [
    {
     "output_type": "stream",
     "name": "stdout",
     "text": [
      "tensor_1d = tf.Tensor([1.   2.5  4.6  5.75 9.7 ], shape=(5,), dtype=float64)\n"
     ]
    }
   ],
   "metadata": {
    "collapsed": true,
    "id": "0NN-Mxr6F53H"
   }
  },
  {
   "cell_type": "markdown",
   "source": [
    "You can convert a tensor to a NumPy array either using np.array or the tensor.numpy method"
   ],
   "metadata": {
    "id": "eMmSUT4QVSEY"
   }
  },
  {
   "cell_type": "code",
   "execution_count": 6,
   "source": [
    "numpy_1d = tensor_1d.numpy()\r\n",
    "print(\"numpy_1d =\", numpy_1d)\r\n",
    "\r\n",
    "tensor_1d = tf.constant(numpy_1d)\r\n",
    "print(\"tensor_1d =\", tensor_1d)"
   ],
   "outputs": [
    {
     "output_type": "stream",
     "name": "stdout",
     "text": [
      "numpy_1d = [1.   2.5  4.6  5.75 9.7 ]\n",
      "tensor_1d = tf.Tensor([1.   2.5  4.6  5.75 9.7 ], shape=(5,), dtype=float64)\n"
     ]
    }
   ],
   "metadata": {
    "id": "0k_EUrWHVRjK"
   }
  },
  {
   "cell_type": "markdown",
   "source": [
    "#### 2-D Tensor (Matrix)"
   ],
   "metadata": {
    "id": "lan7E2WUF53H"
   }
  },
  {
   "cell_type": "code",
   "execution_count": 7,
   "source": [
    "tensor_2d = tf.constant(np.arange(16).reshape(4, 4), dtype=tf.float64, name='tensor_2d')\r\n",
    "print('tensor_2d =', tensor_2d)"
   ],
   "outputs": [
    {
     "output_type": "stream",
     "name": "stdout",
     "text": [
      "tensor_2d = tf.Tensor(\n",
      "[[ 0.  1.  2.  3.]\n",
      " [ 4.  5.  6.  7.]\n",
      " [ 8.  9. 10. 11.]\n",
      " [12. 13. 14. 15.]], shape=(4, 4), dtype=float64)\n"
     ]
    }
   ],
   "metadata": {
    "collapsed": true,
    "id": "fTlU6Ke9F53H"
   }
  },
  {
   "cell_type": "code",
   "execution_count": 8,
   "source": [
    "tensor_2d.numpy()"
   ],
   "outputs": [
    {
     "output_type": "execute_result",
     "data": {
      "text/plain": [
       "array([[ 0.,  1.,  2.,  3.],\n",
       "       [ 4.,  5.,  6.,  7.],\n",
       "       [ 8.,  9., 10., 11.],\n",
       "       [12., 13., 14., 15.]])"
      ]
     },
     "metadata": {},
     "execution_count": 8
    }
   ],
   "metadata": {
    "id": "tVMpEUPEVWlF"
   }
  },
  {
   "cell_type": "markdown",
   "source": [
    "#### Basic operations in Tensorflow\n",
    "You can run TensorFlow operations and the results will return immediately because of eager execution."
   ],
   "metadata": {
    "id": "qthmPMvqF53H"
   }
  },
  {
   "cell_type": "code",
   "execution_count": 9,
   "source": [
    "A = tf.constant([\r\n",
    "    [4, 3],\r\n",
    "    [1, 1],\r\n",
    "], dtype=tf.float32, name='A')\r\n",
    "\r\n",
    "B = tf.constant([\r\n",
    "    [3, 5],\r\n",
    "    [1, 2],\r\n",
    "], dtype=tf.float32, name='B')"
   ],
   "outputs": [],
   "metadata": {
    "id": "YUlD9F4FF53H"
   }
  },
  {
   "cell_type": "markdown",
   "source": [
    "`tf.reduce_sum`: Computes the sum of elements across dimensions of a tensor. (deprecated arguments) <br>\n",
    "`tf.linalg.det`: Computes the determinant of one or more square matrices. <br>\n",
    "    (e.g. if given matrix is [[a, b], [c, d]], the output of this matrix is ad-bc)"
   ],
   "metadata": {
    "id": "uMrU1TVsF53I"
   }
  },
  {
   "cell_type": "code",
   "execution_count": 11,
   "source": [
    "pprint('A + B =', tf.add(A, B))\r\n",
    "pprint('A - B =', tf.subtract(A, B))\r\n",
    "pprint('A ⨉ B =', tf.matmul(A, B))\r\n",
    "pprint('A² =', tf.square(A))\r\n",
    "pprint('sum(A) =', tf.reduce_sum(A))\r\n",
    "pprint('inv(A) =', tf.linalg.inv(A))\r\n",
    "pprint('A ⨉ inv(A) =', tf.matmul(A, tf.linalg.inv(A)))\r\n",
    "print('det(A) =', tf.linalg.det(A))"
   ],
   "outputs": [
    {
     "output_type": "stream",
     "name": "stdout",
     "text": [
      "A + B = tf.Tensor(\n",
      "[[7. 8.]\n",
      " [2. 3.]], shape=(2, 2), dtype=float32)\n",
      "\n",
      "A - B = tf.Tensor(\n",
      "[[ 1. -2.]\n",
      " [ 0. -1.]], shape=(2, 2), dtype=float32)\n",
      "\n",
      "A ⨉ B = tf.Tensor(\n",
      "[[15. 26.]\n",
      " [ 4.  7.]], shape=(2, 2), dtype=float32)\n",
      "\n",
      "A² = tf.Tensor(\n",
      "[[16.  9.]\n",
      " [ 1.  1.]], shape=(2, 2), dtype=float32)\n",
      "\n",
      "sum(A) = tf.Tensor(9.0, shape=(), dtype=float32)\n",
      "\n",
      "inv(A) = tf.Tensor(\n",
      "[[ 1. -3.]\n",
      " [-1.  4.]], shape=(2, 2), dtype=float32)\n",
      "\n",
      "A ⨉ inv(A) = tf.Tensor(\n",
      "[[1. 0.]\n",
      " [0. 1.]], shape=(2, 2), dtype=float32)\n",
      "\n",
      "det(A) = tf.Tensor(1.0, shape=(), dtype=float32)\n"
     ]
    }
   ],
   "metadata": {
    "collapsed": true,
    "id": "HGMak_wEF53I"
   }
  },
  {
   "cell_type": "markdown",
   "source": [
    "#### Introduction to Variables\n",
    "\n",
    "A TensorFlow variable is the recommended way to represent shared, persistent state your program manipulates. \n",
    "\n",
    "Variables are created and tracked via the tf.Variable class. A tf.Variable represents a tensor whose value can be changed by running ops on it. Specific ops allow you to read and modify the values of this tensor. Higher level libraries like tf.keras use tf.Variable to store model parameters."
   ],
   "metadata": {
    "id": "fqITNKIYVtg5"
   }
  },
  {
   "cell_type": "markdown",
   "source": [
    "#### Create a variable\n",
    "\n",
    "To create a variable, provide an initial value. The tf.Variable will have the same dtype as the initialization value."
   ],
   "metadata": {
    "id": "Oki0CFDRWAue"
   }
  },
  {
   "cell_type": "code",
   "execution_count": 12,
   "source": [
    "my_tensor = tf.constant([[1.0, 2.0], [3.0, 4.0]])\r\n",
    "my_variable = tf.Variable(my_tensor)\r\n",
    "\r\n",
    "# Variables can be all kinds of types, just like tensors\r\n",
    "bool_variable = tf.Variable([False, False, False, True])\r\n",
    "complex_variable = tf.Variable([5 + 4j, 6 + 1j])"
   ],
   "outputs": [],
   "metadata": {
    "id": "ZTL87aJVVrT6"
   }
  },
  {
   "cell_type": "markdown",
   "source": [
    "A variable looks and acts like a tensor, and, in fact, is a data structure backed by a tf.Tensor. Like tensors, they have a dtype and a shape, and can be exported to NumPy."
   ],
   "metadata": {
    "id": "znM7KkhMWFW5"
   }
  },
  {
   "cell_type": "code",
   "execution_count": 13,
   "source": [
    "print(\"Shape: \", my_variable.shape)\r\n",
    "print(\"DType: \", my_variable.dtype)\r\n",
    "print(\"As NumPy: \", my_variable.numpy())"
   ],
   "outputs": [
    {
     "output_type": "stream",
     "name": "stdout",
     "text": [
      "Shape:  (2, 2)\n",
      "DType:  <dtype: 'float32'>\n",
      "As NumPy:  [[1. 2.]\n",
      " [3. 4.]]\n"
     ]
    }
   ],
   "metadata": {
    "id": "ArJtH-7mVyH9"
   }
  },
  {
   "cell_type": "markdown",
   "source": [
    "Most tensor operations work on variables as expected, although variables cannot be reshaped."
   ],
   "metadata": {
    "id": "S45yj0kMWK3m"
   }
  },
  {
   "cell_type": "code",
   "execution_count": 14,
   "source": [
    "print(\"A variable:\", my_variable)\r\n",
    "print(\"\\nViewed as a tensor:\", tf.convert_to_tensor(my_variable))\r\n",
    "print(\"\\nIndex of highest value:\", tf.argmax(my_variable))\r\n",
    "\r\n",
    "# This creates a new tensor; it does not reshape the variable.\r\n",
    "print(\"\\nCopying and reshaping: \", tf.reshape(my_variable, ([1,4])))"
   ],
   "outputs": [
    {
     "output_type": "stream",
     "name": "stdout",
     "text": [
      "A variable: <tf.Variable 'Variable:0' shape=(2, 2) dtype=float32, numpy=\n",
      "array([[1., 2.],\n",
      "       [3., 4.]], dtype=float32)>\n",
      "\n",
      "Viewed as a tensor: tf.Tensor(\n",
      "[[1. 2.]\n",
      " [3. 4.]], shape=(2, 2), dtype=float32)\n",
      "\n",
      "Index of highest value: tf.Tensor([1 1], shape=(2,), dtype=int64)\n",
      "\n",
      "Copying and reshaping:  tf.Tensor([[1. 2. 3. 4.]], shape=(1, 4), dtype=float32)\n"
     ]
    }
   ],
   "metadata": {
    "id": "3VTmgkTHWMun"
   }
  },
  {
   "cell_type": "markdown",
   "source": [
    "#### Handling tensors"
   ],
   "metadata": {
    "id": "0SolvTDBF53I"
   }
  },
  {
   "cell_type": "code",
   "execution_count": 22,
   "source": [
    "from urllib.request import urlopen\r\n",
    "import matplotlib.pyplot as plt\r\n",
    "from io import BytesIO\r\n",
    "\r\n",
    "# create a file-like object from the url\r\n",
    "f = urlopen(\"http://matplotlib.sourceforge.net/_static/logo2.png\")\r\n",
    "\r\n",
    "# read the image file in a numpy array\r\n",
    "b = BytesIO(f.read())\r\n",
    "image = plt.imread(b)"
   ],
   "outputs": [],
   "metadata": {
    "id": "W3brVXGZF53I"
   }
  },
  {
   "cell_type": "code",
   "execution_count": 24,
   "source": [
    "%matplotlib inline\r\n",
    "import matplotlib.pyplot as plt\r\n",
    "plt.imshow(image)\r\n",
    "plt.show()\r\n",
    "print(\"shape of image =\",image.shape)"
   ],
   "outputs": [
    {
     "output_type": "display_data",
     "data": {
      "image/png": "[encoded data removed]",
      "text/plain": [
       "<Figure size 432x288 with 1 Axes>"
      ]
     },
     "metadata": {
      "needs_background": "light"
     }
    },
    {
     "output_type": "stream",
     "name": "stdout",
     "text": [
      "shape of image = (130, 542, 4)\n"
     ]
    }
   ],
   "metadata": {
    "collapsed": true,
    "id": "iNmdsrw2F53J"
   }
  },
  {
   "cell_type": "markdown",
   "source": [
    "`tf.slice(input_,begin,size,name=None)`: Extract a slice of _size_ from a tensor input starting at the location specified by _begin_."
   ],
   "metadata": {
    "id": "1RVj0hVSF53J"
   }
  },
  {
   "cell_type": "code",
   "execution_count": 25,
   "source": [
    "print('Slice the tensor')\r\n",
    "sliced = tf.slice(image, [50, 0, 0], [50, 300, -1]) # input, begin, size\r\n",
    "plt.imshow(sliced)\r\n",
    "plt.show()\r\n",
    "print(image.shape)\r\n",
    "print(sliced.shape)"
   ],
   "outputs": [
    {
     "output_type": "stream",
     "name": "stdout",
     "text": [
      "Slice the tensor\n"
     ]
    },
    {
     "output_type": "display_data",
     "data": {
      "image/png": "[encoded data removed]",
      "text/plain": [
       "<Figure size 432x288 with 1 Axes>"
      ]
     },
     "metadata": {
      "needs_background": "light"
     }
    },
    {
     "output_type": "stream",
     "name": "stdout",
     "text": [
      "(130, 542, 4)\n",
      "(50, 300, 4)\n"
     ]
    }
   ],
   "metadata": {
    "collapsed": true,
    "id": "_LddUDjGF53J"
   }
  },
  {
   "cell_type": "code",
   "execution_count": 26,
   "source": [
    "print(\"shape of image =\", image.shape)\r\n",
    "print(\"shape of sliced image =\", sliced.shape)\r\n",
    "print(\"type of image =\", type(image))\r\n",
    "print(\"type of sliced image =\", type(sliced))"
   ],
   "outputs": [
    {
     "output_type": "stream",
     "name": "stdout",
     "text": [
      "shape of image = (130, 542, 4)\n",
      "shape of sliced image = (50, 300, 4)\n",
      "type of image = <class 'numpy.ndarray'>\n",
      "type of sliced image = <class 'tensorflow.python.framework.ops.EagerTensor'>\n"
     ]
    }
   ],
   "metadata": {
    "id": "S1PIjAR1HFbQ"
   }
  },
  {
   "cell_type": "markdown",
   "source": [
    "`tf.transpose(a,perm=None,name='transpose',conjugate=False)`: Transposes _a_. Permutes the dimensions according to _perm_."
   ],
   "metadata": {
    "id": "Z4ab3XA0F53J"
   }
  },
  {
   "cell_type": "code",
   "execution_count": 27,
   "source": [
    "print('Transepose the tensor')\r\n",
    "transposed = tf.transpose(image, perm=[1, 0, 2])\r\n",
    "plt.imshow(transposed)\r\n",
    "plt.show()"
   ],
   "outputs": [
    {
     "output_type": "stream",
     "name": "stdout",
     "text": [
      "Transepose the tensor\n"
     ]
    },
    {
     "output_type": "display_data",
     "data": {
      "image/png": "[encoded data removed]",
      "text/plain": [
       "<Figure size 432x288 with 1 Axes>"
      ]
     },
     "metadata": {
      "needs_background": "light"
     }
    }
   ],
   "metadata": {
    "collapsed": true,
    "id": "b6QB5lUiF53J"
   }
  },
  {
   "cell_type": "markdown",
   "source": [
    "### 1-3. Neural networks in TensorFlow\n",
    "\n",
    "We can define neural networks in TensorFlow, and it's often helpful to think about this using the idea of computation graphs. TensorFlow uses a high-level API called [Keras](https://www.tensorflow.org/guide/keras) that provides a powerful, intuitive framework for building and training deep learning models. In this lecture, we'll be using the Keras API to build and train our models.\n",
    "\n",
    "Let's consider this example of a very simple neural network of just one dense layer:\n",
    "\n",
    "<img src=\"https://i.imgur.com/NxfQgpy.png\" width=\"600\">\n",
    "\n",
    "This graph takes an input `x` and computes an output `out = sigmoid(W * x + b)`. \n",
    "\n",
    "First, let's define this computation graph in TensorFlow via a simple function, as we did before:"
   ],
   "metadata": {
    "id": "-oLFcuY9F53K"
   }
  },
  {
   "cell_type": "markdown",
   "source": [
    "tf.random.uniform(shape, minval=0, maxval=None, dtype=tf.dtypes.float32, seed=None, name=None): Outputs random values from a uniform distribution."
   ],
   "metadata": {
    "id": "HgJjPN2e1ZTu"
   }
  },
  {
   "cell_type": "code",
   "execution_count": null,
   "source": [
    "# n_in: number of inputs\r\n",
    "# n_out: number of outputs\r\n",
    "def our_dense_layer(x, n_in, n_out):\r\n",
    "    # TODO: define and initialize parameters, a weight matrix W and biases b\r\n",
    "    #       x.shape = (..., n_in)\r\n",
    "    #       W.shape = (n_in, n_out)\r\n",
    "    #       b.shape = (1, n_out)\r\n",
    "    W = \r\n",
    "    b = \r\n",
    "    \r\n",
    "    # TODO: define the operati0on for z (hint: use tf.matmul)\r\n",
    "    z = \r\n",
    "\r\n",
    "    # TODO: define the operation for out (hint: use tf.sigmoid)\r\n",
    "    out = \r\n",
    "    \r\n",
    "    return out"
   ],
   "outputs": [],
   "metadata": {
    "id": "mz1-HBsZF53L"
   }
  },
  {
   "cell_type": "markdown",
   "source": [
    "Then, we can define an example input, feed it into `our_dense_layer` function, and immediately execute:"
   ],
   "metadata": {
    "id": "lYQOfpCeF53L"
   }
  },
  {
   "cell_type": "code",
   "execution_count": null,
   "source": [
    "# define an example input (x_input)\r\n",
    "x_input = tf.constant([[1.0, 2.0]])\r\n",
    "\r\n",
    "# TODO: call `our_dense_layer` to get the output of the network\r\n",
    "print(our_dense_layer(x_input,2, 2))"
   ],
   "outputs": [],
   "metadata": {
    "collapsed": true,
    "id": "FHYslBnlF53L"
   }
  },
  {
   "cell_type": "markdown",
   "source": [
    "#### Tensorflow with Keras\n",
    "Now, instead of explicitly defining a simple function, we'll use the Keras API to define our neural network. This will be especially important as we move on to more complicated network architectures.\n",
    "\n",
    "Specifically, for this network we'll use the Keras Sequential model from the tf.keras API to define our network. The tf.keras.Sequential model lets us conveniently define a linear stack of network layers. We'll use tf.keras.layers.Dense to define our single fully connected network layer."
   ],
   "metadata": {
    "id": "3WNbzpV5F53L"
   }
  },
  {
   "cell_type": "code",
   "execution_count": null,
   "source": [
    "# Define the number of inputs and outputs\n",
    "n_input_nodes = 2\n",
    "n_output_nodes = 3\n",
    "\n",
    "# define a sequential model using Keras API\n",
    "model = tf.keras.Sequential()\n",
    "# define a dense (fully connected) layer to compute z using Keras API \n",
    "dense_layer = tf.keras.layers.Dense(n_output_nodes, input_shape=(n_input_nodes,), activation='sigmoid')\n",
    "# add the dense layer to the model\n",
    "model.add(dense_layer)"
   ],
   "outputs": [],
   "metadata": {
    "id": "8ymZoLgeF53L"
   }
  },
  {
   "cell_type": "code",
   "execution_count": null,
   "source": [
    "# define an example input (x_input)\n",
    "x_input = tf.constant([[1.0, 2.0]])\n",
    "\n",
    "# feed the input into `model` and get the output\n",
    "print(model(x_input))"
   ],
   "outputs": [],
   "metadata": {
    "collapsed": true,
    "id": "d_D1Wj1aF53M"
   }
  },
  {
   "cell_type": "markdown",
   "source": [
    "### Why Tensorflow?"
   ],
   "metadata": {
    "id": "_YytIvC0nJGa"
   }
  },
  {
   "cell_type": "markdown",
   "source": [
    "On a typical system, there are multiple computing devices. \n",
    "\n",
    "In TensorFlow, the supported device types are **CPU** and **GPU**. \n",
    "\n",
    "They are represented as strings. For example:\n",
    "\n",
    "* `'/cpu:0'`: The CPU of your machine.\n",
    "* `'/gpu:0'`: The GPU of your machine, if you have one.\n",
    "* `'/gpu:1'`: The second GPU of your machine, etc.\n",
    "    \n",
    "If a TensorFlow operation has both **CPU** and **GPU** implementations, the GPU devices will be given priority when the operation is assigned to a device. \n",
    "\n",
    "For example, `matmul` has both CPU and GPU kernels. On a system with devices `cpu:0` and `gpu:0`, `gpu:0` will be selected to run `matmul`.    "
   ],
   "metadata": {
    "id": "b54QzdXpnNIS"
   }
  },
  {
   "cell_type": "markdown",
   "source": [
    "#### Using GPU"
   ],
   "metadata": {
    "id": "3DF_Pa9-nQRR"
   }
  },
  {
   "cell_type": "code",
   "execution_count": null,
   "source": [
    "from tensorflow.python.client import device_lib\n",
    "\n",
    "def get_available_gpus():\n",
    "    local_device_protos = device_lib.list_local_devices()\n",
    "    return [x.name for x in local_device_protos if x.device_type == 'GPU']\n",
    "\n",
    "available_gpus = get_available_gpus()\n",
    "print(available_gpus)"
   ],
   "outputs": [],
   "metadata": {
    "id": "EgSWfWJMnTZh"
   }
  },
  {
   "cell_type": "code",
   "execution_count": null,
   "source": [
    "c = []\n",
    "if tf.config.list_physical_devices('GPU'):\n",
    "    for d in available_gpus:\n",
    "        with tf.device(d):\n",
    "            a = tf.constant([1.0, 2.0, 3.0, 4.0, 5.0, 6.0], shape=[2, 3])\n",
    "            b = tf.constant([1.0, 2.0, 3.0, 4.0, 5.0, 6.0], shape=[3, 2])\n",
    "            c.append(tf.matmul(a, b))\n",
    "            \n",
    "    with tf.device('/cpu:0'):\n",
    "        result = tf.add_n(c)\n",
    "        print(result)"
   ],
   "outputs": [],
   "metadata": {
    "id": "4xPJFxtinVEh"
   }
  },
  {
   "cell_type": "code",
   "execution_count": null,
   "source": [
    "import time\n",
    "\n",
    "with tf.device('/cpu:0'):\n",
    "    a = tf.random.normal((512, 64, 32, 32))\n",
    "    b = tf.random.normal((512, 64, 32, 32))\n",
    "    \n",
    "    start_time = time.time()\n",
    "    tf.matmul(a, b)\n",
    "    end_time = time.time()\n",
    "\n",
    "print('Elapsed time: {:.4f}s'.format(end_time - start_time))"
   ],
   "outputs": [],
   "metadata": {
    "id": "PjgJarOVnWFp"
   }
  },
  {
   "cell_type": "code",
   "execution_count": null,
   "source": [
    "with tf.device('/gpu:0'):\n",
    "    a = tf.random.normal((512, 64, 32, 32))\n",
    "    b = tf.random.normal((512, 64, 32, 32))\n",
    "    \n",
    "    start_time = time.time()\n",
    "    tf.matmul(a, b)\n",
    "    end_time = time.time()\n",
    "    \n",
    "print('Elapsed time: {:.4f}s'.format(end_time - start_time))"
   ],
   "outputs": [],
   "metadata": {
    "id": "2sJbPGpjnXFh"
   }
  },
  {
   "cell_type": "markdown",
   "source": [
    "### More on Tensorflow\n",
    "\n",
    "[Official API Documentation](https://www.tensorflow.org/api_docs/python)"
   ],
   "metadata": {
    "id": "1-qg04jZF53N"
   }
  }
 ],
 "metadata": {
  "accelerator": "GPU",
  "colab": {
   "collapsed_sections": [
    "zxdnP3UIF525",
    "TNVy4tZVF53D"
   ],
   "name": "Class1-2.ipynb",
   "provenance": []
  },
  "kernelspec": {
   "name": "python3",
   "display_name": "Python 3.7.11 64-bit ('tf': conda)"
  },
  "language_info": {
   "codemirror_mode": {
    "name": "ipython",
    "version": 3
   },
   "file_extension": ".py",
   "mimetype": "text/x-python",
   "name": "python",
   "nbconvert_exporter": "python",
   "pygments_lexer": "ipython3",
   "version": "3.7.11"
  },
  "interpreter": {
   "hash": "6a46531c2c5b14c69fb4baabde8f644ca57b49d7a02f836ac6a0e182364721fa"
  }
 },
 "nbformat": 4,
 "nbformat_minor": 1
}